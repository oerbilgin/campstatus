{
 "cells": [
  {
   "cell_type": "markdown",
   "metadata": {},
   "source": [
    "# update campground status in google sheets"
   ]
  },
  {
   "cell_type": "code",
   "execution_count": 1,
   "metadata": {
    "collapsed": false
   },
   "outputs": [],
   "source": [
    "from bs4 import BeautifulSoup\n",
    "import requests\n",
    "import re\n",
    "import gspread\n",
    "import json\n",
    "from oauth2client import file, client, tools"
   ]
  },
  {
   "cell_type": "code",
   "execution_count": 2,
   "metadata": {
    "collapsed": true
   },
   "outputs": [],
   "source": [
    "def open_camping_sheet(key):\n",
    "    \"\"\"Opens the google sheet object\"\"\"\n",
    "    # Setup the Sheets API\n",
    "    SCOPES = ['https://www.googleapis.com/auth/spreadsheets']\n",
    "    store = file.Storage('credentials.json')\n",
    "    creds = store.get()\n",
    "    if not creds or creds.invalid:\n",
    "        raise RuntimeError('Need to refresh credentials')\n",
    "        # This code will open an oauth session in a browser to log in\n",
    "        flow = client.flow_from_clientsecrets('client_secret.json', SCOPES)\n",
    "        creds = tools.run_flow(flow, store)\n",
    "        \n",
    "    f = gspread.authorize(creds) # authenticate with Google\n",
    "    sheet = f.open_by_key(key).sheet1\n",
    "    return sheet"
   ]
  },
  {
   "cell_type": "code",
   "execution_count": 3,
   "metadata": {
    "collapsed": true
   },
   "outputs": [],
   "source": [
    "def update_sheet(sheet, campground_name, status, status_col=1):\n",
    "    \"\"\"Updates the appropriate cell with campground status\"\"\"\n",
    "    try:\n",
    "        cell = sheet.find(re.compile('(?i){}'.format(campground_name)))\n",
    "    except Exception as e:\n",
    "        if type(e).__name__ == 'CellNotFound':\n",
    "            print '{} not found in sheet'.format(campground_name)\n",
    "            return None\n",
    "    row = cell.row\n",
    "    current_status = sheet.cell(row, status_col).value\n",
    "    sheet.update_cell(row, status_col, status)"
   ]
  },
  {
   "cell_type": "code",
   "execution_count": 4,
   "metadata": {
    "collapsed": true
   },
   "outputs": [],
   "source": [
    "def get_campground_status(url):\n",
    "    \"\"\"Gets campground status from the campground webpage\"\"\"\n",
    "    r = requests.get(url)\n",
    "    soup = BeautifulSoup(r.text, 'html.parser')\n",
    "    for i in soup.find_all('strong'):\n",
    "        if 'Area Status: ' in i.contents:\n",
    "            return i.next_sibling.strip()"
   ]
  },
  {
   "cell_type": "code",
   "execution_count": 5,
   "metadata": {
    "collapsed": false
   },
   "outputs": [],
   "source": [
    "# Google sheet key\n",
    "# for sheet https://docs.google.com/spreadsheets/d/19TrtOtNcBHffXP1NFfz_XB_7xb3LbexpjVSGjyKpHWo/edit#gid=0\n",
    "key = \"19TrtOtNcBHffXP1NFfz_XB_7xb3LbexpjVSGjyKpHWo\"\n",
    "sheet = open_camping_sheet(key)"
   ]
  },
  {
   "cell_type": "code",
   "execution_count": 6,
   "metadata": {
    "collapsed": true
   },
   "outputs": [],
   "source": [
    "# NFS website(s)\n",
    "forest_urls = [\n",
    "    'https://www.fs.usda.gov/activity/eldorado/recreation/camping-cabins/?recid=71008&actid=29' # El Dorado\n",
    "]"
   ]
  },
  {
   "cell_type": "code",
   "execution_count": 7,
   "metadata": {
    "collapsed": false
   },
   "outputs": [],
   "source": [
    "def main():\n",
    "    for furl in forest_urls:\n",
    "        r = requests.get(furl)\n",
    "        soup=BeautifulSoup(r.text, 'html.parser')\n",
    "        campgrounds = []\n",
    "        url_pref = 'https://www.fs.usda.gov'\n",
    "        for i in soup.find_all(re.compile(\"h\\d\")):\n",
    "            if 'Campground Camping Areas' in i.contents:\n",
    "                for j in i.find_next_siblings('ul'):\n",
    "                    for k in j.findAll('a'):\n",
    "                        url = k.get('href')\n",
    "                        if not url.endswith('.pdf') and url is not None:\n",
    "                            url = url_pref + url\n",
    "                            status = get_campground_status(url)\n",
    "                            campname = k.getText().split(' Campground')[0]\n",
    "                            update_sheet(sheet, campname, status)"
   ]
  },
  {
   "cell_type": "code",
   "execution_count": null,
   "metadata": {
    "collapsed": true
   },
   "outputs": [],
   "source": []
  }
 ],
 "metadata": {
  "kernelspec": {
   "display_name": "Python 2",
   "language": "python",
   "name": "python2"
  },
  "language_info": {
   "codemirror_mode": {
    "name": "ipython",
    "version": 2
   },
   "file_extension": ".py",
   "mimetype": "text/x-python",
   "name": "python",
   "nbconvert_exporter": "python",
   "pygments_lexer": "ipython2",
   "version": "2.7.11"
  }
 },
 "nbformat": 4,
 "nbformat_minor": 0
}
